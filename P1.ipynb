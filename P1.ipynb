{
 "cells": [
  {
   "cell_type": "code",
   "execution_count": 109,
   "metadata": {},
   "outputs": [],
   "source": [
    "import pandas as pd\n",
    "import numpy as np\n",
    "from mypipes import *\n",
    "testd = pd.read_csv(\"/home/pavan117/Courses/Edvancer 53k course/2. Python/Projects/Project 1/Consumer_Complaints_test_share.csv\")\n",
    "traind = pd.read_csv(\"/home/pavan117/Courses/Edvancer 53k course/2. Python/Projects/Project 1/Consumer_Complaints_train.csv\")"
   ]
  },
  {
   "cell_type": "code",
   "execution_count": 110,
   "metadata": {
    "collapsed": true
   },
   "outputs": [
    {
     "name": "stderr",
     "output_type": "stream",
     "text": [
      "/home/pavan117/anaconda3/lib/python3.7/site-packages/ipykernel_launcher.py:9: FutureWarning: Sorting because non-concatenation axis is not aligned. A future version\n",
      "of pandas will change to not sort by default.\n",
      "\n",
      "To accept the future behavior, pass 'sort=False'.\n",
      "\n",
      "To retain the current behavior and silence the warning, pass 'sort=True'.\n",
      "\n",
      "  if __name__ == '__main__':\n"
     ]
    }
   ],
   "source": [
    "'''Combining the datasets to ensure uniform data transformations\n",
    "    1. Add target var to test data.\n",
    "    2. Add a data column so that i can properly separate them later\n",
    "    3. Concat them\n",
    "'''\n",
    "testd['Consumer disputed?'] = np.nan\n",
    "testd['data'] = 'test'\n",
    "traind['data'] = 'train'\n",
    "fulldata = pd.concat([traind, testd], axis=0)"
   ]
  },
  {
   "cell_type": "code",
   "execution_count": 111,
   "metadata": {
    "collapsed": true
   },
   "outputs": [
    {
     "name": "stdout",
     "output_type": "stream",
     "text": [
      "['Company public response', 'Consumer complaint narrative', 'Consumer consent provided?', 'Sub-issue', 'Tags']\n"
     ]
    }
   ],
   "source": [
    "'''Checking for missing values in each column''' '''I ran it, dropped it and ran again, thus all useless columns are now gone'''\n",
    "cols_to_drop = []\n",
    "for col in fulldata.columns:\n",
    "    s = sum(pd.isnull(fulldata[col]))\n",
    "    if s/598027 >0.5:\n",
    "        cols_to_drop.append(col)\n",
    "print(cols_to_drop)    "
   ]
  },
  {
   "cell_type": "code",
   "execution_count": 112,
   "metadata": {},
   "outputs": [],
   "source": [
    "'''Those Columns which have more than 50% missing values'''\n",
    "fulldata = fulldata.drop(cols_to_drop, axis=1)"
   ]
  },
  {
   "cell_type": "code",
   "execution_count": 153,
   "metadata": {
    "collapsed": true
   },
   "outputs": [
    {
     "data": {
      "text/plain": [
       "train    478421\n",
       "test     119606\n",
       "Name: data, dtype: int64"
      ]
     },
     "execution_count": 153,
     "metadata": {},
     "output_type": "execute_result"
    }
   ],
   "source": [
    "pd.value_counts(fulldata['data'])"
   ]
  },
  {
   "cell_type": "code",
   "execution_count": 368,
   "metadata": {
    "collapsed": true
   },
   "outputs": [
    {
     "name": "stdout",
     "output_type": "stream",
     "text": [
      "<class 'pandas.core.frame.DataFrame'>\n",
      "Int64Index: 598027 entries, 0 to 119605\n",
      "Data columns (total 41 columns):\n",
      "Consumer disputed?                                              598027 non-null int64\n",
      "Timely response?                                                598027 non-null int64\n",
      "data                                                            598027 non-null object\n",
      "delay                                                           598027 non-null int64\n",
      "Company_Bank of America                                         598027 non-null int64\n",
      "Company_Wells Fargo & Company                                   598027 non-null int64\n",
      "Company_JPMorgan Chase & Co.                                    598027 non-null int64\n",
      "Company_Equifax                                                 598027 non-null int64\n",
      "Company_Experian                                                598027 non-null int64\n",
      "Company_TransUnion Intermediate Holdings, Inc.                  598027 non-null int64\n",
      "Company_Citibank                                                598027 non-null int64\n",
      "Company response to consumer_Closed with explanation            598027 non-null int64\n",
      "Company response to consumer_Closed with non-monetary relief    598027 non-null int64\n",
      "Issue_Loan modification,collection,foreclosure                  598027 non-null int64\n",
      "Issue_Incorrect information on credit report                    598027 non-null int64\n",
      "Issue_Loan servicing, payments, escrow account                  598027 non-null int64\n",
      "Issue_Cont'd attempts collect debt not owed                     598027 non-null int64\n",
      "Issue_Account opening, closing, or management                   598027 non-null int64\n",
      "Product_Mortgage                                                598027 non-null int64\n",
      "Product_Debt collection                                         598027 non-null int64\n",
      "Product_Credit reporting                                        598027 non-null int64\n",
      "Product_Credit card                                             598027 non-null int64\n",
      "Product_Bank account or service                                 598027 non-null int64\n",
      "State_CA                                                        598027 non-null int64\n",
      "State_FL                                                        598027 non-null int64\n",
      "State_TX                                                        598027 non-null int64\n",
      "State_NY                                                        598027 non-null int64\n",
      "State_GA                                                        598027 non-null int64\n",
      "State_NJ                                                        598027 non-null int64\n",
      "State_PA                                                        598027 non-null int64\n",
      "Sub-product_missing                                             598027 non-null int64\n",
      "Sub-product_Other mortgage                                      598027 non-null int64\n",
      "Sub-product_Conventional fixed mortgage                         598027 non-null int64\n",
      "Sub-product_Checking account                                    598027 non-null int64\n",
      "Sub-product_Other (i.e. phone, health club, etc.)               598027 non-null int64\n",
      "Sub-product_I do not know                                       598027 non-null int64\n",
      "Sub-product_Credit card                                         598027 non-null int64\n",
      "Sub-product_Conventional adjustable mortgage (ARM)              598027 non-null int64\n",
      "Submitted via_Web                                               598027 non-null int64\n",
      "Submitted via_Referral                                          598027 non-null int64\n",
      "Submitted via_Phone                                             598027 non-null int64\n",
      "dtypes: int64(40), object(1)\n",
      "memory usage: 191.6+ MB\n"
     ]
    }
   ],
   "source": [
    "fulldata.info()"
   ]
  },
  {
   "cell_type": "code",
   "execution_count": 117,
   "metadata": {},
   "outputs": [],
   "source": [
    "del fulldata['Complaint ID']\n",
    "del fulldata['ZIP code']"
   ]
  },
  {
   "cell_type": "code",
   "execution_count": 232,
   "metadata": {
    "collapsed": true
   },
   "outputs": [
    {
     "name": "stdout",
     "output_type": "stream",
     "text": [
      "<class 'pandas.core.frame.DataFrame'>\n",
      "Int64Index: 598027 entries, 0 to 119605\n",
      "Data columns (total 11 columns):\n",
      "Company                         598027 non-null object\n",
      "Company response to consumer    598027 non-null object\n",
      "Consumer disputed?              478421 non-null object\n",
      "Issue                           598027 non-null object\n",
      "Product                         598027 non-null object\n",
      "State                           598027 non-null object\n",
      "Sub-product                     598027 non-null object\n",
      "Submitted via                   598027 non-null object\n",
      "Timely response?                598027 non-null int64\n",
      "data                            598027 non-null object\n",
      "delay                           598027 non-null int64\n",
      "dtypes: int64(2), object(9)\n",
      "memory usage: 54.8+ MB\n"
     ]
    }
   ],
   "source": [
    "fulldata.info()"
   ]
  },
  {
   "cell_type": "code",
   "execution_count": 125,
   "metadata": {},
   "outputs": [],
   "source": [
    "delays = (pd.to_datetime(fulldata['Date sent to company']) - pd.to_datetime(fulldata['Date received'])).dt.days\n",
    "delays.head()\n",
    "fulldata['delay'] = delays\n",
    "del fulldata['Date sent to company']\n",
    "del fulldata['Date received']"
   ]
  },
  {
   "cell_type": "code",
   "execution_count": 129,
   "metadata": {
    "collapsed": true
   },
   "outputs": [
    {
     "name": "stdout",
     "output_type": "stream",
     "text": [
      "<class 'pandas.core.frame.DataFrame'>\n",
      "Int64Index: 598027 entries, 0 to 119605\n",
      "Data columns (total 11 columns):\n",
      "Company                         598027 non-null object\n",
      "Company response to consumer    598027 non-null object\n",
      "Consumer disputed?              478421 non-null object\n",
      "Issue                           598027 non-null object\n",
      "Product                         598027 non-null object\n",
      "State                           593263 non-null object\n",
      "Sub-product                     424802 non-null object\n",
      "Submitted via                   598026 non-null object\n",
      "Timely response?                598027 non-null object\n",
      "data                            598027 non-null object\n",
      "delay                           598027 non-null int64\n",
      "dtypes: int64(1), object(10)\n",
      "memory usage: 54.8+ MB\n"
     ]
    }
   ],
   "source": [
    "fulldata.info()"
   ]
  },
  {
   "cell_type": "code",
   "execution_count": 131,
   "metadata": {},
   "outputs": [],
   "source": [
    "temp = (fulldata['Timely response?']==\"Yes\").astype(int)\n",
    "temp.head()\n",
    "fulldata['Timely response?'] = temp"
   ]
  },
  {
   "cell_type": "code",
   "execution_count": 132,
   "metadata": {
    "collapsed": true
   },
   "outputs": [
    {
     "name": "stdout",
     "output_type": "stream",
     "text": [
      "<class 'pandas.core.frame.DataFrame'>\n",
      "Int64Index: 598027 entries, 0 to 119605\n",
      "Data columns (total 11 columns):\n",
      "Company                         598027 non-null object\n",
      "Company response to consumer    598027 non-null object\n",
      "Consumer disputed?              478421 non-null object\n",
      "Issue                           598027 non-null object\n",
      "Product                         598027 non-null object\n",
      "State                           593263 non-null object\n",
      "Sub-product                     424802 non-null object\n",
      "Submitted via                   598026 non-null object\n",
      "Timely response?                598027 non-null int64\n",
      "data                            598027 non-null object\n",
      "delay                           598027 non-null int64\n",
      "dtypes: int64(2), object(9)\n",
      "memory usage: 54.8+ MB\n"
     ]
    }
   ],
   "source": [
    "fulldata.info()"
   ]
  },
  {
   "cell_type": "code",
   "execution_count": 148,
   "metadata": {
    "collapsed": true
   },
   "outputs": [
    {
     "name": "stdout",
     "output_type": "stream",
     "text": [
      "{'State': 'missing', 'Sub-product': 'missing', 'Submitted via': 'missing'}\n"
     ]
    }
   ],
   "source": [
    "impute_these = {}\n",
    "for col in fulldata.columns:\n",
    "    if col in ['Consumer disputed?','data']:\n",
    "        continue\n",
    "    s = sum(pd.isnull(fulldata[col]))\n",
    "    if s!=0:\n",
    "        impute_these[col] = 'missing'\n",
    "print(impute_these)"
   ]
  },
  {
   "cell_type": "code",
   "execution_count": 137,
   "metadata": {},
   "outputs": [],
   "source": [
    "backup = fulldata.copy()"
   ]
  },
  {
   "cell_type": "code",
   "execution_count": 144,
   "metadata": {
    "collapsed": true
   },
   "outputs": [
    {
     "data": {
      "text/plain": [
       "train    478421\n",
       "test     119606\n",
       "Name: data, dtype: int64"
      ]
     },
     "execution_count": 144,
     "metadata": {},
     "output_type": "execute_result"
    }
   ],
   "source": [
    "pd.value_counts(fulldata['data'])"
   ]
  },
  {
   "cell_type": "code",
   "execution_count": 152,
   "metadata": {
    "collapsed": true
   },
   "outputs": [
    {
     "name": "stdout",
     "output_type": "stream",
     "text": [
      "<class 'pandas.core.frame.DataFrame'>\n",
      "Int64Index: 598027 entries, 0 to 119605\n",
      "Data columns (total 11 columns):\n",
      "Company                         598027 non-null object\n",
      "Company response to consumer    598027 non-null object\n",
      "Consumer disputed?              478421 non-null object\n",
      "Issue                           598027 non-null object\n",
      "Product                         598027 non-null object\n",
      "State                           598027 non-null object\n",
      "Sub-product                     598027 non-null object\n",
      "Submitted via                   598027 non-null object\n",
      "Timely response?                598027 non-null int64\n",
      "data                            598027 non-null object\n",
      "delay                           598027 non-null int64\n",
      "dtypes: int64(2), object(9)\n",
      "memory usage: 54.8+ MB\n"
     ]
    }
   ],
   "source": [
    "fulldata.info()"
   ]
  },
  {
   "cell_type": "code",
   "execution_count": 151,
   "metadata": {},
   "outputs": [],
   "source": [
    "fulldata = fulldata.fillna(impute_these)"
   ]
  },
  {
   "cell_type": "code",
   "execution_count": 154,
   "metadata": {},
   "outputs": [],
   "source": [
    "trainingdata = fulldata.loc[fulldata['data']==\"train\"]\n",
    "testdata = fulldata.loc[fulldata['data']==\"test\"]"
   ]
  },
  {
   "cell_type": "code",
   "execution_count": 156,
   "metadata": {
    "collapsed": true
   },
   "outputs": [
    {
     "ename": "NameError",
     "evalue": "name 'car_vars' is not defined",
     "output_type": "error",
     "traceback": [
      "\u001b[0;31m---------------------------------------------------------------------------\u001b[0m",
      "\u001b[0;31mNameError\u001b[0m                                 Traceback (most recent call last)",
      "\u001b[0;32m<ipython-input-156-a83a2550d400>\u001b[0m in \u001b[0;36m<module>\u001b[0;34m\u001b[0m\n\u001b[1;32m      8\u001b[0m     \u001b[0;32melse\u001b[0m\u001b[0;34m:\u001b[0m\u001b[0;34m\u001b[0m\u001b[0;34m\u001b[0m\u001b[0m\n\u001b[1;32m      9\u001b[0m         \u001b[0mnum_vars\u001b[0m\u001b[0;34m.\u001b[0m\u001b[0mappend\u001b[0m\u001b[0;34m(\u001b[0m\u001b[0mcol\u001b[0m\u001b[0;34m)\u001b[0m\u001b[0;34m\u001b[0m\u001b[0;34m\u001b[0m\u001b[0m\n\u001b[0;32m---> 10\u001b[0;31m \u001b[0mprint\u001b[0m\u001b[0;34m(\u001b[0m\u001b[0mcar_vars\u001b[0m\u001b[0;34m)\u001b[0m\u001b[0;34m\u001b[0m\u001b[0;34m\u001b[0m\u001b[0m\n\u001b[0m\u001b[1;32m     11\u001b[0m \u001b[0mprint\u001b[0m\u001b[0;34m(\u001b[0m\u001b[0mnum_vars\u001b[0m\u001b[0;34m)\u001b[0m\u001b[0;34m\u001b[0m\u001b[0;34m\u001b[0m\u001b[0m\n",
      "\u001b[0;31mNameError\u001b[0m: name 'car_vars' is not defined"
     ]
    }
   ],
   "source": [
    "cat_vars = []\n",
    "num_vars = []\n",
    "for col in fulldata.columns:\n",
    "    if col in ['Consumer disputed?']:\n",
    "        continue\n",
    "    elif fulldata[col].dtype == \"O\":\n",
    "        cat_vars.append(col)\n",
    "    else:\n",
    "        num_vars.append(col)"
   ]
  },
  {
   "cell_type": "code",
   "execution_count": 159,
   "metadata": {},
   "outputs": [],
   "source": [
    "backup = fulldata.copy()"
   ]
  },
  {
   "cell_type": "code",
   "execution_count": 185,
   "metadata": {},
   "outputs": [],
   "source": [
    "cat_vars = cat_vars[:-1]"
   ]
  },
  {
   "cell_type": "code",
   "execution_count": 187,
   "metadata": {},
   "outputs": [
    {
     "data": {
      "text/plain": [
       "['Consumer disputed?', 'Timely response?', 'data', 'delay']"
      ]
     },
     "execution_count": 187,
     "metadata": {},
     "output_type": "execute_result"
    }
   ],
   "source": [
    "all_other_vars = []\n",
    "for col in fulldata.columns:\n",
    "    if col not in cat_vars:\n",
    "        all_other_vars.append(col)\n",
    "all_other_vars"
   ]
  },
  {
   "cell_type": "code",
   "execution_count": 211,
   "metadata": {},
   "outputs": [],
   "source": [
    "all_other_vars= ['Consumer disputed?', 'Timely response?', 'delay']"
   ]
  },
  {
   "cell_type": "code",
   "execution_count": 223,
   "metadata": {},
   "outputs": [],
   "source": [
    "p1 = pdPipeline([\n",
    "    (\"Var select\", VarSelector(cat_vars)),\n",
    "    (\"Make Dummies\", get_dummies_Pipe(10000))\n",
    "])\n",
    "\n",
    "p2 = pdPipeline([\n",
    "    (\"var select\", VarSelector(all_other_vars))\n",
    "])\n",
    "\n",
    "dataPipe = FeatureUnion([\n",
    "    (\"Dummies pipeline\", p1),\n",
    "    (\"Fake step\", p2)\n",
    "])\n"
   ]
  },
  {
   "cell_type": "code",
   "execution_count": 224,
   "metadata": {
    "collapsed": true
   },
   "outputs": [
    {
     "data": {
      "text/plain": [
       "FeatureUnion(n_jobs=None,\n",
       "             transformer_list=[('Dummies pipeline',\n",
       "                                pdPipeline(memory=None,\n",
       "                                           steps=[('Var select',\n",
       "                                                   VarSelector(var_names=None)),\n",
       "                                                  ('Make Dummies',\n",
       "                                                   get_dummies_Pipe(freq_cutoff=10000))],\n",
       "                                           verbose=False)),\n",
       "                               ('Fake step',\n",
       "                                pdPipeline(memory=None,\n",
       "                                           steps=[('var select',\n",
       "                                                   VarSelector(var_names=None))],\n",
       "                                           verbose=False))],\n",
       "             transformer_weights=None, verbose=False)"
      ]
     },
     "execution_count": 224,
     "metadata": {},
     "output_type": "execute_result"
    }
   ],
   "source": [
    "dataPipe.fit(trainingdata)"
   ]
  },
  {
   "cell_type": "code",
   "execution_count": 225,
   "metadata": {},
   "outputs": [
    {
     "data": {
      "text/plain": [
       "65"
      ]
     },
     "execution_count": 225,
     "metadata": {},
     "output_type": "execute_result"
    }
   ],
   "source": [
    "l =dataPipe.get_feature_names()\n",
    "len(l)"
   ]
  },
  {
   "cell_type": "code",
   "execution_count": 226,
   "metadata": {},
   "outputs": [],
   "source": [
    "x_train = pd.DataFrame(data=dataPipe.transform(trainingdata),\n",
    "                       columns=dataPipe.get_feature_names())"
   ]
  },
  {
   "cell_type": "code",
   "execution_count": 227,
   "metadata": {},
   "outputs": [],
   "source": [
    "x_test = pd.DataFrame(data=dataPipe.transform(testdata),\n",
    "                       columns=dataPipe.get_feature_names())"
   ]
  },
  {
   "cell_type": "code",
   "execution_count": 228,
   "metadata": {},
   "outputs": [],
   "source": [
    "'''All the data is now ready to be classified'''\n",
    "from sklearn.model_selection import train_test_split\n",
    "x_train2, x_validation = train_test_split(x_train, test_size= 0.2)"
   ]
  },
  {
   "cell_type": "code",
   "execution_count": 229,
   "metadata": {
    "collapsed": true
   },
   "outputs": [
    {
     "data": {
      "text/html": [
       "<div>\n",
       "<style scoped>\n",
       "    .dataframe tbody tr th:only-of-type {\n",
       "        vertical-align: middle;\n",
       "    }\n",
       "\n",
       "    .dataframe tbody tr th {\n",
       "        vertical-align: top;\n",
       "    }\n",
       "\n",
       "    .dataframe thead th {\n",
       "        text-align: right;\n",
       "    }\n",
       "</style>\n",
       "<table border=\"1\" class=\"dataframe\">\n",
       "  <thead>\n",
       "    <tr style=\"text-align: right;\">\n",
       "      <th></th>\n",
       "      <th>Dummies pipeline__Company_Bank of America</th>\n",
       "      <th>Dummies pipeline__Company_Wells Fargo &amp; Company</th>\n",
       "      <th>Dummies pipeline__Company_JPMorgan Chase &amp; Co.</th>\n",
       "      <th>Dummies pipeline__Company_Equifax</th>\n",
       "      <th>Dummies pipeline__Company_Experian</th>\n",
       "      <th>Dummies pipeline__Company_TransUnion Intermediate Holdings, Inc.</th>\n",
       "      <th>Dummies pipeline__Company_Citibank</th>\n",
       "      <th>Dummies pipeline__Company_Ocwen</th>\n",
       "      <th>Dummies pipeline__Company_Capital One</th>\n",
       "      <th>Dummies pipeline__Company_Nationstar Mortgage</th>\n",
       "      <th>...</th>\n",
       "      <th>Dummies pipeline__Sub-product_Non-federal student loan</th>\n",
       "      <th>Dummies pipeline__Sub-product_Medical</th>\n",
       "      <th>Dummies pipeline__Sub-product_Vehicle loan</th>\n",
       "      <th>Dummies pipeline__Submitted via_Web</th>\n",
       "      <th>Dummies pipeline__Submitted via_Referral</th>\n",
       "      <th>Dummies pipeline__Submitted via_Phone</th>\n",
       "      <th>Dummies pipeline__Submitted via_Postal mail</th>\n",
       "      <th>Fake step__Consumer disputed?</th>\n",
       "      <th>Fake step__Timely response?</th>\n",
       "      <th>Fake step__delay</th>\n",
       "    </tr>\n",
       "  </thead>\n",
       "  <tbody>\n",
       "    <tr>\n",
       "      <th>264358</th>\n",
       "      <td>0</td>\n",
       "      <td>0</td>\n",
       "      <td>0</td>\n",
       "      <td>0</td>\n",
       "      <td>0</td>\n",
       "      <td>0</td>\n",
       "      <td>0</td>\n",
       "      <td>0</td>\n",
       "      <td>0</td>\n",
       "      <td>0</td>\n",
       "      <td>...</td>\n",
       "      <td>0</td>\n",
       "      <td>0</td>\n",
       "      <td>0</td>\n",
       "      <td>1</td>\n",
       "      <td>0</td>\n",
       "      <td>0</td>\n",
       "      <td>0</td>\n",
       "      <td>No</td>\n",
       "      <td>1</td>\n",
       "      <td>3</td>\n",
       "    </tr>\n",
       "    <tr>\n",
       "      <th>237764</th>\n",
       "      <td>1</td>\n",
       "      <td>0</td>\n",
       "      <td>0</td>\n",
       "      <td>0</td>\n",
       "      <td>0</td>\n",
       "      <td>0</td>\n",
       "      <td>0</td>\n",
       "      <td>0</td>\n",
       "      <td>0</td>\n",
       "      <td>0</td>\n",
       "      <td>...</td>\n",
       "      <td>0</td>\n",
       "      <td>0</td>\n",
       "      <td>0</td>\n",
       "      <td>0</td>\n",
       "      <td>1</td>\n",
       "      <td>0</td>\n",
       "      <td>0</td>\n",
       "      <td>No</td>\n",
       "      <td>1</td>\n",
       "      <td>0</td>\n",
       "    </tr>\n",
       "    <tr>\n",
       "      <th>21959</th>\n",
       "      <td>1</td>\n",
       "      <td>0</td>\n",
       "      <td>0</td>\n",
       "      <td>0</td>\n",
       "      <td>0</td>\n",
       "      <td>0</td>\n",
       "      <td>0</td>\n",
       "      <td>0</td>\n",
       "      <td>0</td>\n",
       "      <td>0</td>\n",
       "      <td>...</td>\n",
       "      <td>0</td>\n",
       "      <td>0</td>\n",
       "      <td>0</td>\n",
       "      <td>1</td>\n",
       "      <td>0</td>\n",
       "      <td>0</td>\n",
       "      <td>0</td>\n",
       "      <td>No</td>\n",
       "      <td>1</td>\n",
       "      <td>0</td>\n",
       "    </tr>\n",
       "    <tr>\n",
       "      <th>292854</th>\n",
       "      <td>0</td>\n",
       "      <td>0</td>\n",
       "      <td>0</td>\n",
       "      <td>0</td>\n",
       "      <td>0</td>\n",
       "      <td>0</td>\n",
       "      <td>0</td>\n",
       "      <td>0</td>\n",
       "      <td>0</td>\n",
       "      <td>1</td>\n",
       "      <td>...</td>\n",
       "      <td>0</td>\n",
       "      <td>0</td>\n",
       "      <td>0</td>\n",
       "      <td>0</td>\n",
       "      <td>0</td>\n",
       "      <td>1</td>\n",
       "      <td>0</td>\n",
       "      <td>No</td>\n",
       "      <td>1</td>\n",
       "      <td>0</td>\n",
       "    </tr>\n",
       "    <tr>\n",
       "      <th>431242</th>\n",
       "      <td>0</td>\n",
       "      <td>0</td>\n",
       "      <td>0</td>\n",
       "      <td>0</td>\n",
       "      <td>0</td>\n",
       "      <td>0</td>\n",
       "      <td>0</td>\n",
       "      <td>0</td>\n",
       "      <td>1</td>\n",
       "      <td>0</td>\n",
       "      <td>...</td>\n",
       "      <td>0</td>\n",
       "      <td>0</td>\n",
       "      <td>0</td>\n",
       "      <td>1</td>\n",
       "      <td>0</td>\n",
       "      <td>0</td>\n",
       "      <td>0</td>\n",
       "      <td>No</td>\n",
       "      <td>1</td>\n",
       "      <td>0</td>\n",
       "    </tr>\n",
       "  </tbody>\n",
       "</table>\n",
       "<p>5 rows × 65 columns</p>\n",
       "</div>"
      ],
      "text/plain": [
       "       Dummies pipeline__Company_Bank of America  \\\n",
       "264358                                         0   \n",
       "237764                                         1   \n",
       "21959                                          1   \n",
       "292854                                         0   \n",
       "431242                                         0   \n",
       "\n",
       "       Dummies pipeline__Company_Wells Fargo & Company  \\\n",
       "264358                                               0   \n",
       "237764                                               0   \n",
       "21959                                                0   \n",
       "292854                                               0   \n",
       "431242                                               0   \n",
       "\n",
       "       Dummies pipeline__Company_JPMorgan Chase & Co.  \\\n",
       "264358                                              0   \n",
       "237764                                              0   \n",
       "21959                                               0   \n",
       "292854                                              0   \n",
       "431242                                              0   \n",
       "\n",
       "       Dummies pipeline__Company_Equifax Dummies pipeline__Company_Experian  \\\n",
       "264358                                 0                                  0   \n",
       "237764                                 0                                  0   \n",
       "21959                                  0                                  0   \n",
       "292854                                 0                                  0   \n",
       "431242                                 0                                  0   \n",
       "\n",
       "       Dummies pipeline__Company_TransUnion Intermediate Holdings, Inc.  \\\n",
       "264358                                                  0                 \n",
       "237764                                                  0                 \n",
       "21959                                                   0                 \n",
       "292854                                                  0                 \n",
       "431242                                                  0                 \n",
       "\n",
       "       Dummies pipeline__Company_Citibank Dummies pipeline__Company_Ocwen  \\\n",
       "264358                                  0                               0   \n",
       "237764                                  0                               0   \n",
       "21959                                   0                               0   \n",
       "292854                                  0                               0   \n",
       "431242                                  0                               0   \n",
       "\n",
       "       Dummies pipeline__Company_Capital One  \\\n",
       "264358                                     0   \n",
       "237764                                     0   \n",
       "21959                                      0   \n",
       "292854                                     0   \n",
       "431242                                     1   \n",
       "\n",
       "       Dummies pipeline__Company_Nationstar Mortgage  ...  \\\n",
       "264358                                             0  ...   \n",
       "237764                                             0  ...   \n",
       "21959                                              0  ...   \n",
       "292854                                             1  ...   \n",
       "431242                                             0  ...   \n",
       "\n",
       "       Dummies pipeline__Sub-product_Non-federal student loan  \\\n",
       "264358                                                  0       \n",
       "237764                                                  0       \n",
       "21959                                                   0       \n",
       "292854                                                  0       \n",
       "431242                                                  0       \n",
       "\n",
       "       Dummies pipeline__Sub-product_Medical  \\\n",
       "264358                                     0   \n",
       "237764                                     0   \n",
       "21959                                      0   \n",
       "292854                                     0   \n",
       "431242                                     0   \n",
       "\n",
       "       Dummies pipeline__Sub-product_Vehicle loan  \\\n",
       "264358                                          0   \n",
       "237764                                          0   \n",
       "21959                                           0   \n",
       "292854                                          0   \n",
       "431242                                          0   \n",
       "\n",
       "       Dummies pipeline__Submitted via_Web  \\\n",
       "264358                                   1   \n",
       "237764                                   0   \n",
       "21959                                    1   \n",
       "292854                                   0   \n",
       "431242                                   1   \n",
       "\n",
       "       Dummies pipeline__Submitted via_Referral  \\\n",
       "264358                                        0   \n",
       "237764                                        1   \n",
       "21959                                         0   \n",
       "292854                                        0   \n",
       "431242                                        0   \n",
       "\n",
       "       Dummies pipeline__Submitted via_Phone  \\\n",
       "264358                                     0   \n",
       "237764                                     0   \n",
       "21959                                      0   \n",
       "292854                                     1   \n",
       "431242                                     0   \n",
       "\n",
       "       Dummies pipeline__Submitted via_Postal mail  \\\n",
       "264358                                           0   \n",
       "237764                                           0   \n",
       "21959                                            0   \n",
       "292854                                           0   \n",
       "431242                                           0   \n",
       "\n",
       "       Fake step__Consumer disputed? Fake step__Timely response?  \\\n",
       "264358                            No                           1   \n",
       "237764                            No                           1   \n",
       "21959                             No                           1   \n",
       "292854                            No                           1   \n",
       "431242                            No                           1   \n",
       "\n",
       "       Fake step__delay  \n",
       "264358                3  \n",
       "237764                0  \n",
       "21959                 0  \n",
       "292854                0  \n",
       "431242                0  \n",
       "\n",
       "[5 rows x 65 columns]"
      ]
     },
     "execution_count": 229,
     "metadata": {},
     "output_type": "execute_result"
    }
   ],
   "source": [
    "x_train2.head()"
   ]
  },
  {
   "cell_type": "code",
   "execution_count": 249,
   "metadata": {
    "collapsed": true
   },
   "outputs": [
    {
     "data": {
      "text/html": [
       "<div>\n",
       "<style scoped>\n",
       "    .dataframe tbody tr th:only-of-type {\n",
       "        vertical-align: middle;\n",
       "    }\n",
       "\n",
       "    .dataframe tbody tr th {\n",
       "        vertical-align: top;\n",
       "    }\n",
       "\n",
       "    .dataframe thead th {\n",
       "        text-align: right;\n",
       "    }\n",
       "</style>\n",
       "<table border=\"1\" class=\"dataframe\">\n",
       "  <thead>\n",
       "    <tr style=\"text-align: right;\">\n",
       "      <th></th>\n",
       "      <th>Company response to consumer</th>\n",
       "      <th>Consumer disputed?</th>\n",
       "      <th>Issue</th>\n",
       "      <th>Product</th>\n",
       "      <th>State</th>\n",
       "      <th>Sub-product</th>\n",
       "      <th>Submitted via</th>\n",
       "      <th>Timely response?</th>\n",
       "      <th>data</th>\n",
       "      <th>delay</th>\n",
       "      <th>Company_Bank of America</th>\n",
       "      <th>Company_Wells Fargo &amp; Company</th>\n",
       "      <th>Company_JPMorgan Chase &amp; Co.</th>\n",
       "      <th>Company_Equifax</th>\n",
       "      <th>Company_Experian</th>\n",
       "      <th>Company_TransUnion Intermediate Holdings, Inc.</th>\n",
       "      <th>Company_Citibank</th>\n",
       "      <th>Company_Ocwen</th>\n",
       "    </tr>\n",
       "  </thead>\n",
       "  <tbody>\n",
       "    <tr>\n",
       "      <th>0</th>\n",
       "      <td>Closed with explanation</td>\n",
       "      <td>No</td>\n",
       "      <td>Billing statement</td>\n",
       "      <td>Credit card</td>\n",
       "      <td>MI</td>\n",
       "      <td>missing</td>\n",
       "      <td>Web</td>\n",
       "      <td>1</td>\n",
       "      <td>train</td>\n",
       "      <td>1</td>\n",
       "      <td>0</td>\n",
       "      <td>1</td>\n",
       "      <td>0</td>\n",
       "      <td>0</td>\n",
       "      <td>0</td>\n",
       "      <td>0</td>\n",
       "      <td>0</td>\n",
       "      <td>0</td>\n",
       "    </tr>\n",
       "    <tr>\n",
       "      <th>1</th>\n",
       "      <td>Closed</td>\n",
       "      <td>No</td>\n",
       "      <td>Making/receiving payments, sending money</td>\n",
       "      <td>Bank account or service</td>\n",
       "      <td>PA</td>\n",
       "      <td>(CD) Certificate of deposit</td>\n",
       "      <td>Referral</td>\n",
       "      <td>1</td>\n",
       "      <td>train</td>\n",
       "      <td>6</td>\n",
       "      <td>0</td>\n",
       "      <td>0</td>\n",
       "      <td>0</td>\n",
       "      <td>0</td>\n",
       "      <td>0</td>\n",
       "      <td>0</td>\n",
       "      <td>0</td>\n",
       "      <td>0</td>\n",
       "    </tr>\n",
       "    <tr>\n",
       "      <th>2</th>\n",
       "      <td>Closed with non-monetary relief</td>\n",
       "      <td>No</td>\n",
       "      <td>Incorrect information on credit report</td>\n",
       "      <td>Credit reporting</td>\n",
       "      <td>CA</td>\n",
       "      <td>missing</td>\n",
       "      <td>Referral</td>\n",
       "      <td>1</td>\n",
       "      <td>train</td>\n",
       "      <td>21</td>\n",
       "      <td>0</td>\n",
       "      <td>0</td>\n",
       "      <td>0</td>\n",
       "      <td>1</td>\n",
       "      <td>0</td>\n",
       "      <td>0</td>\n",
       "      <td>0</td>\n",
       "      <td>0</td>\n",
       "    </tr>\n",
       "    <tr>\n",
       "      <th>3</th>\n",
       "      <td>Closed with monetary relief</td>\n",
       "      <td>No</td>\n",
       "      <td>Billing statement</td>\n",
       "      <td>Credit card</td>\n",
       "      <td>GA</td>\n",
       "      <td>missing</td>\n",
       "      <td>Web</td>\n",
       "      <td>1</td>\n",
       "      <td>train</td>\n",
       "      <td>0</td>\n",
       "      <td>0</td>\n",
       "      <td>0</td>\n",
       "      <td>0</td>\n",
       "      <td>0</td>\n",
       "      <td>0</td>\n",
       "      <td>0</td>\n",
       "      <td>0</td>\n",
       "      <td>0</td>\n",
       "    </tr>\n",
       "    <tr>\n",
       "      <th>4</th>\n",
       "      <td>Closed with explanation</td>\n",
       "      <td>No</td>\n",
       "      <td>Transaction issue</td>\n",
       "      <td>Credit card</td>\n",
       "      <td>MA</td>\n",
       "      <td>missing</td>\n",
       "      <td>Web</td>\n",
       "      <td>1</td>\n",
       "      <td>train</td>\n",
       "      <td>8</td>\n",
       "      <td>1</td>\n",
       "      <td>0</td>\n",
       "      <td>0</td>\n",
       "      <td>0</td>\n",
       "      <td>0</td>\n",
       "      <td>0</td>\n",
       "      <td>0</td>\n",
       "      <td>0</td>\n",
       "    </tr>\n",
       "  </tbody>\n",
       "</table>\n",
       "</div>"
      ],
      "text/plain": [
       "      Company response to consumer Consumer disputed?  \\\n",
       "0          Closed with explanation                 No   \n",
       "1                           Closed                 No   \n",
       "2  Closed with non-monetary relief                 No   \n",
       "3      Closed with monetary relief                 No   \n",
       "4          Closed with explanation                 No   \n",
       "\n",
       "                                      Issue                  Product State  \\\n",
       "0                         Billing statement              Credit card    MI   \n",
       "1  Making/receiving payments, sending money  Bank account or service    PA   \n",
       "2    Incorrect information on credit report         Credit reporting    CA   \n",
       "3                         Billing statement              Credit card    GA   \n",
       "4                         Transaction issue              Credit card    MA   \n",
       "\n",
       "                   Sub-product Submitted via  Timely response?   data  delay  \\\n",
       "0                      missing           Web                 1  train      1   \n",
       "1  (CD) Certificate of deposit      Referral                 1  train      6   \n",
       "2                      missing      Referral                 1  train     21   \n",
       "3                      missing           Web                 1  train      0   \n",
       "4                      missing           Web                 1  train      8   \n",
       "\n",
       "   Company_Bank of America  Company_Wells Fargo & Company  \\\n",
       "0                        0                              1   \n",
       "1                        0                              0   \n",
       "2                        0                              0   \n",
       "3                        0                              0   \n",
       "4                        1                              0   \n",
       "\n",
       "   Company_JPMorgan Chase & Co.  Company_Equifax  Company_Experian  \\\n",
       "0                             0                0                 0   \n",
       "1                             0                0                 0   \n",
       "2                             0                1                 0   \n",
       "3                             0                0                 0   \n",
       "4                             0                0                 0   \n",
       "\n",
       "   Company_TransUnion Intermediate Holdings, Inc.  Company_Citibank  \\\n",
       "0                                               0                 0   \n",
       "1                                               0                 0   \n",
       "2                                               0                 0   \n",
       "3                                               0                 0   \n",
       "4                                               0                 0   \n",
       "\n",
       "   Company_Ocwen  \n",
       "0              0  \n",
       "1              0  \n",
       "2              0  \n",
       "3              0  \n",
       "4              0  "
      ]
     },
     "execution_count": 249,
     "metadata": {},
     "output_type": "execute_result"
    }
   ],
   "source": [
    "def pavanMakeDummies(df, column, cutoff):\n",
    "    k = pd.value_counts(df[column])\n",
    "    df2 = df.copy()\n",
    "    cats = k.index[k>cutoff][:-1]\n",
    "    temp_dict = {}\n",
    "    for cat in cats:\n",
    "        new_name = column+'_'+cat\n",
    "        df2[new_name] = (df[column]==cat).astype(int)\n",
    "    del df2[column]\n",
    "    \n",
    "    return df2\n",
    "temp = pavanMakeDummies(fulldata, 'Company', 15000) #Theres no difference wether it's 1000 or 20000.\n",
    "temp.head()\n",
    "    #So this works properly\n"
   ]
  },
  {
   "cell_type": "code",
   "execution_count": 252,
   "metadata": {},
   "outputs": [
    {
     "name": "stdout",
     "output_type": "stream",
     "text": [
      "Index(['Bank of America', 'Wells Fargo & Company', 'JPMorgan Chase & Co.',\n",
      "       'Equifax', 'Experian', 'TransUnion Intermediate Holdings, Inc.',\n",
      "       'Citibank', 'Ocwen', 'Capital One', 'Nationstar Mortgage',\n",
      "       'Synchrony Financial', 'U.S. Bancorp'],\n",
      "      dtype='object') 12\n",
      "285972\n"
     ]
    }
   ],
   "source": [
    "k = pd.value_counts(fulldata['Company'])\n",
    "k2 = k.index[k>10000]\n",
    "print(k2,len(k2))\n",
    "print(sum(k[0:8]))\n"
   ]
  },
  {
   "cell_type": "code",
   "execution_count": 254,
   "metadata": {},
   "outputs": [],
   "source": [
    "backup = fulldata.copy() '''Creatinga backup before I use my custom dummy function'''"
   ]
  },
  {
   "cell_type": "code",
   "execution_count": 255,
   "metadata": {},
   "outputs": [
    {
     "data": {
      "text/plain": [
       "(598027, 41)"
      ]
     },
     "execution_count": 255,
     "metadata": {},
     "output_type": "execute_result"
    }
   ],
   "source": [
    "for col in cat_vars:\n",
    "    fulldata = pavanMakeDummies(fulldata, col,20000)\n",
    "fulldata.shape"
   ]
  },
  {
   "cell_type": "code",
   "execution_count": 305,
   "metadata": {
    "collapsed": true
   },
   "outputs": [
    {
     "name": "stdout",
     "output_type": "stream",
     "text": [
      "<class 'pandas.core.frame.DataFrame'>\n",
      "Int64Index: 598027 entries, 0 to 119605\n",
      "Data columns (total 41 columns):\n",
      "Consumer disputed?                                              598027 non-null int64\n",
      "Timely response?                                                598027 non-null int64\n",
      "data                                                            598027 non-null object\n",
      "delay                                                           598027 non-null int64\n",
      "Company_Bank of America                                         598027 non-null int64\n",
      "Company_Wells Fargo & Company                                   598027 non-null int64\n",
      "Company_JPMorgan Chase & Co.                                    598027 non-null int64\n",
      "Company_Equifax                                                 598027 non-null int64\n",
      "Company_Experian                                                598027 non-null int64\n",
      "Company_TransUnion Intermediate Holdings, Inc.                  598027 non-null int64\n",
      "Company_Citibank                                                598027 non-null int64\n",
      "Company response to consumer_Closed with explanation            598027 non-null int64\n",
      "Company response to consumer_Closed with non-monetary relief    598027 non-null int64\n",
      "Issue_Loan modification,collection,foreclosure                  598027 non-null int64\n",
      "Issue_Incorrect information on credit report                    598027 non-null int64\n",
      "Issue_Loan servicing, payments, escrow account                  598027 non-null int64\n",
      "Issue_Cont'd attempts collect debt not owed                     598027 non-null int64\n",
      "Issue_Account opening, closing, or management                   598027 non-null int64\n",
      "Product_Mortgage                                                598027 non-null int64\n",
      "Product_Debt collection                                         598027 non-null int64\n",
      "Product_Credit reporting                                        598027 non-null int64\n",
      "Product_Credit card                                             598027 non-null int64\n",
      "Product_Bank account or service                                 598027 non-null int64\n",
      "State_CA                                                        598027 non-null int64\n",
      "State_FL                                                        598027 non-null int64\n",
      "State_TX                                                        598027 non-null int64\n",
      "State_NY                                                        598027 non-null int64\n",
      "State_GA                                                        598027 non-null int64\n",
      "State_NJ                                                        598027 non-null int64\n",
      "State_PA                                                        598027 non-null int64\n",
      "Sub-product_missing                                             598027 non-null int64\n",
      "Sub-product_Other mortgage                                      598027 non-null int64\n",
      "Sub-product_Conventional fixed mortgage                         598027 non-null int64\n",
      "Sub-product_Checking account                                    598027 non-null int64\n",
      "Sub-product_Other (i.e. phone, health club, etc.)               598027 non-null int64\n",
      "Sub-product_I do not know                                       598027 non-null int64\n",
      "Sub-product_Credit card                                         598027 non-null int64\n",
      "Sub-product_Conventional adjustable mortgage (ARM)              598027 non-null int64\n",
      "Submitted via_Web                                               598027 non-null int64\n",
      "Submitted via_Referral                                          598027 non-null int64\n",
      "Submitted via_Phone                                             598027 non-null int64\n",
      "dtypes: int64(40), object(1)\n",
      "memory usage: 191.6+ MB\n"
     ]
    }
   ],
   "source": [
    "fulldata.info()"
   ]
  },
  {
   "cell_type": "code",
   "execution_count": 278,
   "metadata": {},
   "outputs": [],
   "source": [
    "fulldata['Consumer disputed?'] = (fulldata['Consumer disputed?']==\"Yes\").astype(int)"
   ]
  },
  {
   "cell_type": "code",
   "execution_count": 285,
   "metadata": {},
   "outputs": [],
   "source": [
    "pd.value_counts(fulldata['data'])\n",
    "xtrain = fulldata.loc[fulldata['data']==\"train\"]\n",
    "xtest = fulldata.loc[fulldata['data']==\"test\"]"
   ]
  },
  {
   "cell_type": "code",
   "execution_count": 315,
   "metadata": {
    "collapsed": true
   },
   "outputs": [
    {
     "ename": "KeyError",
     "evalue": "'data'",
     "output_type": "error",
     "traceback": [
      "\u001b[0;31m---------------------------------------------------------------------------\u001b[0m",
      "\u001b[0;31mKeyError\u001b[0m                                  Traceback (most recent call last)",
      "\u001b[0;32m~/anaconda3/lib/python3.7/site-packages/pandas/core/indexes/base.py\u001b[0m in \u001b[0;36mget_loc\u001b[0;34m(self, key, method, tolerance)\u001b[0m\n\u001b[1;32m   2656\u001b[0m             \u001b[0;32mtry\u001b[0m\u001b[0;34m:\u001b[0m\u001b[0;34m\u001b[0m\u001b[0;34m\u001b[0m\u001b[0m\n\u001b[0;32m-> 2657\u001b[0;31m                 \u001b[0;32mreturn\u001b[0m \u001b[0mself\u001b[0m\u001b[0;34m.\u001b[0m\u001b[0m_engine\u001b[0m\u001b[0;34m.\u001b[0m\u001b[0mget_loc\u001b[0m\u001b[0;34m(\u001b[0m\u001b[0mkey\u001b[0m\u001b[0;34m)\u001b[0m\u001b[0;34m\u001b[0m\u001b[0;34m\u001b[0m\u001b[0m\n\u001b[0m\u001b[1;32m   2658\u001b[0m             \u001b[0;32mexcept\u001b[0m \u001b[0mKeyError\u001b[0m\u001b[0;34m:\u001b[0m\u001b[0;34m\u001b[0m\u001b[0;34m\u001b[0m\u001b[0m\n",
      "\u001b[0;32mpandas/_libs/index.pyx\u001b[0m in \u001b[0;36mpandas._libs.index.IndexEngine.get_loc\u001b[0;34m()\u001b[0m\n",
      "\u001b[0;32mpandas/_libs/index.pyx\u001b[0m in \u001b[0;36mpandas._libs.index.IndexEngine.get_loc\u001b[0;34m()\u001b[0m\n",
      "\u001b[0;32mpandas/_libs/hashtable_class_helper.pxi\u001b[0m in \u001b[0;36mpandas._libs.hashtable.PyObjectHashTable.get_item\u001b[0;34m()\u001b[0m\n",
      "\u001b[0;32mpandas/_libs/hashtable_class_helper.pxi\u001b[0m in \u001b[0;36mpandas._libs.hashtable.PyObjectHashTable.get_item\u001b[0;34m()\u001b[0m\n",
      "\u001b[0;31mKeyError\u001b[0m: 'data'",
      "\nDuring handling of the above exception, another exception occurred:\n",
      "\u001b[0;31mKeyError\u001b[0m                                  Traceback (most recent call last)",
      "\u001b[0;32m<ipython-input-315-920f3f4c3ec2>\u001b[0m in \u001b[0;36m<module>\u001b[0;34m\u001b[0m\n\u001b[0;32m----> 1\u001b[0;31m \u001b[0;32mdel\u001b[0m \u001b[0mxtrain\u001b[0m\u001b[0;34m[\u001b[0m\u001b[0;34m'data'\u001b[0m\u001b[0;34m]\u001b[0m\u001b[0;34m\u001b[0m\u001b[0;34m\u001b[0m\u001b[0m\n\u001b[0m\u001b[1;32m      2\u001b[0m \u001b[0;32mdel\u001b[0m \u001b[0mxtest\u001b[0m\u001b[0;34m[\u001b[0m\u001b[0;34m'data'\u001b[0m\u001b[0;34m]\u001b[0m\u001b[0;34m\u001b[0m\u001b[0;34m\u001b[0m\u001b[0m\n",
      "\u001b[0;32m~/anaconda3/lib/python3.7/site-packages/pandas/core/generic.py\u001b[0m in \u001b[0;36m__delitem__\u001b[0;34m(self, key)\u001b[0m\n\u001b[1;32m   3313\u001b[0m             \u001b[0;31m# there was no match, this call should raise the appropriate\u001b[0m\u001b[0;34m\u001b[0m\u001b[0;34m\u001b[0m\u001b[0;34m\u001b[0m\u001b[0m\n\u001b[1;32m   3314\u001b[0m             \u001b[0;31m# exception:\u001b[0m\u001b[0;34m\u001b[0m\u001b[0;34m\u001b[0m\u001b[0;34m\u001b[0m\u001b[0m\n\u001b[0;32m-> 3315\u001b[0;31m             \u001b[0mself\u001b[0m\u001b[0;34m.\u001b[0m\u001b[0m_data\u001b[0m\u001b[0;34m.\u001b[0m\u001b[0mdelete\u001b[0m\u001b[0;34m(\u001b[0m\u001b[0mkey\u001b[0m\u001b[0;34m)\u001b[0m\u001b[0;34m\u001b[0m\u001b[0;34m\u001b[0m\u001b[0m\n\u001b[0m\u001b[1;32m   3316\u001b[0m \u001b[0;34m\u001b[0m\u001b[0m\n\u001b[1;32m   3317\u001b[0m         \u001b[0;31m# delete from the caches\u001b[0m\u001b[0;34m\u001b[0m\u001b[0;34m\u001b[0m\u001b[0;34m\u001b[0m\u001b[0m\n",
      "\u001b[0;32m~/anaconda3/lib/python3.7/site-packages/pandas/core/internals/managers.py\u001b[0m in \u001b[0;36mdelete\u001b[0;34m(self, item)\u001b[0m\n\u001b[1;32m    983\u001b[0m         \u001b[0mDelete\u001b[0m \u001b[0mselected\u001b[0m \u001b[0mitem\u001b[0m \u001b[0;34m(\u001b[0m\u001b[0mitems\u001b[0m \u001b[0;32mif\u001b[0m \u001b[0mnon\u001b[0m\u001b[0;34m-\u001b[0m\u001b[0munique\u001b[0m\u001b[0;34m)\u001b[0m \u001b[0;32min\u001b[0m\u001b[0;34m-\u001b[0m\u001b[0mplace\u001b[0m\u001b[0;34m.\u001b[0m\u001b[0;34m\u001b[0m\u001b[0;34m\u001b[0m\u001b[0m\n\u001b[1;32m    984\u001b[0m         \"\"\"\n\u001b[0;32m--> 985\u001b[0;31m         \u001b[0mindexer\u001b[0m \u001b[0;34m=\u001b[0m \u001b[0mself\u001b[0m\u001b[0;34m.\u001b[0m\u001b[0mitems\u001b[0m\u001b[0;34m.\u001b[0m\u001b[0mget_loc\u001b[0m\u001b[0;34m(\u001b[0m\u001b[0mitem\u001b[0m\u001b[0;34m)\u001b[0m\u001b[0;34m\u001b[0m\u001b[0;34m\u001b[0m\u001b[0m\n\u001b[0m\u001b[1;32m    986\u001b[0m \u001b[0;34m\u001b[0m\u001b[0m\n\u001b[1;32m    987\u001b[0m         \u001b[0mis_deleted\u001b[0m \u001b[0;34m=\u001b[0m \u001b[0mnp\u001b[0m\u001b[0;34m.\u001b[0m\u001b[0mzeros\u001b[0m\u001b[0;34m(\u001b[0m\u001b[0mself\u001b[0m\u001b[0;34m.\u001b[0m\u001b[0mshape\u001b[0m\u001b[0;34m[\u001b[0m\u001b[0;36m0\u001b[0m\u001b[0;34m]\u001b[0m\u001b[0;34m,\u001b[0m \u001b[0mdtype\u001b[0m\u001b[0;34m=\u001b[0m\u001b[0mnp\u001b[0m\u001b[0;34m.\u001b[0m\u001b[0mbool_\u001b[0m\u001b[0;34m)\u001b[0m\u001b[0;34m\u001b[0m\u001b[0;34m\u001b[0m\u001b[0m\n",
      "\u001b[0;32m~/anaconda3/lib/python3.7/site-packages/pandas/core/indexes/base.py\u001b[0m in \u001b[0;36mget_loc\u001b[0;34m(self, key, method, tolerance)\u001b[0m\n\u001b[1;32m   2657\u001b[0m                 \u001b[0;32mreturn\u001b[0m \u001b[0mself\u001b[0m\u001b[0;34m.\u001b[0m\u001b[0m_engine\u001b[0m\u001b[0;34m.\u001b[0m\u001b[0mget_loc\u001b[0m\u001b[0;34m(\u001b[0m\u001b[0mkey\u001b[0m\u001b[0;34m)\u001b[0m\u001b[0;34m\u001b[0m\u001b[0;34m\u001b[0m\u001b[0m\n\u001b[1;32m   2658\u001b[0m             \u001b[0;32mexcept\u001b[0m \u001b[0mKeyError\u001b[0m\u001b[0;34m:\u001b[0m\u001b[0;34m\u001b[0m\u001b[0;34m\u001b[0m\u001b[0m\n\u001b[0;32m-> 2659\u001b[0;31m                 \u001b[0;32mreturn\u001b[0m \u001b[0mself\u001b[0m\u001b[0;34m.\u001b[0m\u001b[0m_engine\u001b[0m\u001b[0;34m.\u001b[0m\u001b[0mget_loc\u001b[0m\u001b[0;34m(\u001b[0m\u001b[0mself\u001b[0m\u001b[0;34m.\u001b[0m\u001b[0m_maybe_cast_indexer\u001b[0m\u001b[0;34m(\u001b[0m\u001b[0mkey\u001b[0m\u001b[0;34m)\u001b[0m\u001b[0;34m)\u001b[0m\u001b[0;34m\u001b[0m\u001b[0;34m\u001b[0m\u001b[0m\n\u001b[0m\u001b[1;32m   2660\u001b[0m         \u001b[0mindexer\u001b[0m \u001b[0;34m=\u001b[0m \u001b[0mself\u001b[0m\u001b[0;34m.\u001b[0m\u001b[0mget_indexer\u001b[0m\u001b[0;34m(\u001b[0m\u001b[0;34m[\u001b[0m\u001b[0mkey\u001b[0m\u001b[0;34m]\u001b[0m\u001b[0;34m,\u001b[0m \u001b[0mmethod\u001b[0m\u001b[0;34m=\u001b[0m\u001b[0mmethod\u001b[0m\u001b[0;34m,\u001b[0m \u001b[0mtolerance\u001b[0m\u001b[0;34m=\u001b[0m\u001b[0mtolerance\u001b[0m\u001b[0;34m)\u001b[0m\u001b[0;34m\u001b[0m\u001b[0;34m\u001b[0m\u001b[0m\n\u001b[1;32m   2661\u001b[0m         \u001b[0;32mif\u001b[0m \u001b[0mindexer\u001b[0m\u001b[0;34m.\u001b[0m\u001b[0mndim\u001b[0m \u001b[0;34m>\u001b[0m \u001b[0;36m1\u001b[0m \u001b[0;32mor\u001b[0m \u001b[0mindexer\u001b[0m\u001b[0;34m.\u001b[0m\u001b[0msize\u001b[0m \u001b[0;34m>\u001b[0m \u001b[0;36m1\u001b[0m\u001b[0;34m:\u001b[0m\u001b[0;34m\u001b[0m\u001b[0;34m\u001b[0m\u001b[0m\n",
      "\u001b[0;32mpandas/_libs/index.pyx\u001b[0m in \u001b[0;36mpandas._libs.index.IndexEngine.get_loc\u001b[0;34m()\u001b[0m\n",
      "\u001b[0;32mpandas/_libs/index.pyx\u001b[0m in \u001b[0;36mpandas._libs.index.IndexEngine.get_loc\u001b[0;34m()\u001b[0m\n",
      "\u001b[0;32mpandas/_libs/hashtable_class_helper.pxi\u001b[0m in \u001b[0;36mpandas._libs.hashtable.PyObjectHashTable.get_item\u001b[0;34m()\u001b[0m\n",
      "\u001b[0;32mpandas/_libs/hashtable_class_helper.pxi\u001b[0m in \u001b[0;36mpandas._libs.hashtable.PyObjectHashTable.get_item\u001b[0;34m()\u001b[0m\n",
      "\u001b[0;31mKeyError\u001b[0m: 'data'"
     ]
    }
   ],
   "source": [
    "del xtrain['data']\n",
    "del xtest['data']"
   ]
  },
  {
   "cell_type": "code",
   "execution_count": 316,
   "metadata": {
    "collapsed": true
   },
   "outputs": [
    {
     "name": "stdout",
     "output_type": "stream",
     "text": [
      "<class 'pandas.core.frame.DataFrame'>\n",
      "Int64Index: 382736 entries, 420240 to 268909\n",
      "Data columns (total 40 columns):\n",
      "Consumer disputed?                                              382736 non-null int64\n",
      "Timely response?                                                382736 non-null int64\n",
      "delay                                                           382736 non-null int64\n",
      "Company_Bank of America                                         382736 non-null int64\n",
      "Company_Wells Fargo & Company                                   382736 non-null int64\n",
      "Company_JPMorgan Chase & Co.                                    382736 non-null int64\n",
      "Company_Equifax                                                 382736 non-null int64\n",
      "Company_Experian                                                382736 non-null int64\n",
      "Company_TransUnion Intermediate Holdings, Inc.                  382736 non-null int64\n",
      "Company_Citibank                                                382736 non-null int64\n",
      "Company response to consumer_Closed with explanation            382736 non-null int64\n",
      "Company response to consumer_Closed with non-monetary relief    382736 non-null int64\n",
      "Issue_Loan modification,collection,foreclosure                  382736 non-null int64\n",
      "Issue_Incorrect information on credit report                    382736 non-null int64\n",
      "Issue_Loan servicing, payments, escrow account                  382736 non-null int64\n",
      "Issue_Cont'd attempts collect debt not owed                     382736 non-null int64\n",
      "Issue_Account opening, closing, or management                   382736 non-null int64\n",
      "Product_Mortgage                                                382736 non-null int64\n",
      "Product_Debt collection                                         382736 non-null int64\n",
      "Product_Credit reporting                                        382736 non-null int64\n",
      "Product_Credit card                                             382736 non-null int64\n",
      "Product_Bank account or service                                 382736 non-null int64\n",
      "State_CA                                                        382736 non-null int64\n",
      "State_FL                                                        382736 non-null int64\n",
      "State_TX                                                        382736 non-null int64\n",
      "State_NY                                                        382736 non-null int64\n",
      "State_GA                                                        382736 non-null int64\n",
      "State_NJ                                                        382736 non-null int64\n",
      "State_PA                                                        382736 non-null int64\n",
      "Sub-product_missing                                             382736 non-null int64\n",
      "Sub-product_Other mortgage                                      382736 non-null int64\n",
      "Sub-product_Conventional fixed mortgage                         382736 non-null int64\n",
      "Sub-product_Checking account                                    382736 non-null int64\n",
      "Sub-product_Other (i.e. phone, health club, etc.)               382736 non-null int64\n",
      "Sub-product_I do not know                                       382736 non-null int64\n",
      "Sub-product_Credit card                                         382736 non-null int64\n",
      "Sub-product_Conventional adjustable mortgage (ARM)              382736 non-null int64\n",
      "Submitted via_Web                                               382736 non-null int64\n",
      "Submitted via_Referral                                          382736 non-null int64\n",
      "Submitted via_Phone                                             382736 non-null int64\n",
      "dtypes: int64(40)\n",
      "memory usage: 129.7 MB\n"
     ]
    }
   ],
   "source": [
    "xtrain2.info()"
   ]
  },
  {
   "cell_type": "code",
   "execution_count": 294,
   "metadata": {},
   "outputs": [
    {
     "name": "stdout",
     "output_type": "stream",
     "text": [
      "True\n"
     ]
    }
   ],
   "source": [
    "'''Now split into training and validation set'''\n",
    "from sklearn.model_selection import train_test_split\n",
    "xtrain2, xvalid = train_test_split(xtrain, test_size = 0.2)\n",
    "print(xtrain2.shape[0]+xvalid.shape[0]==xtrain.shape[0])"
   ]
  },
  {
   "cell_type": "code",
   "execution_count": 299,
   "metadata": {
    "collapsed": true
   },
   "outputs": [
    {
     "data": {
      "text/plain": [
       "0    301882\n",
       "1     80854\n",
       "Name: Consumer disputed?, dtype: int64"
      ]
     },
     "execution_count": 299,
     "metadata": {},
     "output_type": "execute_result"
    }
   ],
   "source": [
    "pd.value_counts(ytrain2)"
   ]
  },
  {
   "cell_type": "code",
   "execution_count": 296,
   "metadata": {},
   "outputs": [],
   "source": [
    "ytrain2 = xtrain2['Consumer disputed?']\n",
    "yvalid = xvalid['Consumer disputed?']"
   ]
  },
  {
   "cell_type": "code",
   "execution_count": 318,
   "metadata": {
    "collapsed": true
   },
   "outputs": [
    {
     "name": "stdout",
     "output_type": "stream",
     "text": [
      "<class 'pandas.core.frame.DataFrame'>\n",
      "Int64Index: 382736 entries, 420240 to 268909\n",
      "Data columns (total 40 columns):\n",
      "Consumer disputed?                                              382736 non-null int64\n",
      "Timely response?                                                382736 non-null int64\n",
      "delay                                                           382736 non-null int64\n",
      "Company_Bank of America                                         382736 non-null int64\n",
      "Company_Wells Fargo & Company                                   382736 non-null int64\n",
      "Company_JPMorgan Chase & Co.                                    382736 non-null int64\n",
      "Company_Equifax                                                 382736 non-null int64\n",
      "Company_Experian                                                382736 non-null int64\n",
      "Company_TransUnion Intermediate Holdings, Inc.                  382736 non-null int64\n",
      "Company_Citibank                                                382736 non-null int64\n",
      "Company response to consumer_Closed with explanation            382736 non-null int64\n",
      "Company response to consumer_Closed with non-monetary relief    382736 non-null int64\n",
      "Issue_Loan modification,collection,foreclosure                  382736 non-null int64\n",
      "Issue_Incorrect information on credit report                    382736 non-null int64\n",
      "Issue_Loan servicing, payments, escrow account                  382736 non-null int64\n",
      "Issue_Cont'd attempts collect debt not owed                     382736 non-null int64\n",
      "Issue_Account opening, closing, or management                   382736 non-null int64\n",
      "Product_Mortgage                                                382736 non-null int64\n",
      "Product_Debt collection                                         382736 non-null int64\n",
      "Product_Credit reporting                                        382736 non-null int64\n",
      "Product_Credit card                                             382736 non-null int64\n",
      "Product_Bank account or service                                 382736 non-null int64\n",
      "State_CA                                                        382736 non-null int64\n",
      "State_FL                                                        382736 non-null int64\n",
      "State_TX                                                        382736 non-null int64\n",
      "State_NY                                                        382736 non-null int64\n",
      "State_GA                                                        382736 non-null int64\n",
      "State_NJ                                                        382736 non-null int64\n",
      "State_PA                                                        382736 non-null int64\n",
      "Sub-product_missing                                             382736 non-null int64\n",
      "Sub-product_Other mortgage                                      382736 non-null int64\n",
      "Sub-product_Conventional fixed mortgage                         382736 non-null int64\n",
      "Sub-product_Checking account                                    382736 non-null int64\n",
      "Sub-product_Other (i.e. phone, health club, etc.)               382736 non-null int64\n",
      "Sub-product_I do not know                                       382736 non-null int64\n",
      "Sub-product_Credit card                                         382736 non-null int64\n",
      "Sub-product_Conventional adjustable mortgage (ARM)              382736 non-null int64\n",
      "Submitted via_Web                                               382736 non-null int64\n",
      "Submitted via_Referral                                          382736 non-null int64\n",
      "Submitted via_Phone                                             382736 non-null int64\n",
      "dtypes: int64(40)\n",
      "memory usage: 129.7 MB\n"
     ]
    }
   ],
   "source": [
    "xtrain2.info()"
   ]
  },
  {
   "cell_type": "code",
   "execution_count": 323,
   "metadata": {
    "collapsed": true
   },
   "outputs": [
    {
     "data": {
      "text/plain": [
       "RandomForestClassifier(bootstrap=True, class_weight=None, criterion='entropy',\n",
       "                       max_depth=10, max_features=20, max_leaf_nodes=None,\n",
       "                       min_impurity_decrease=0.0, min_impurity_split=None,\n",
       "                       min_samples_leaf=1, min_samples_split=2,\n",
       "                       min_weight_fraction_leaf=0.0, n_estimators=100,\n",
       "                       n_jobs=None, oob_score=False, random_state=None,\n",
       "                       verbose=0, warm_start=False)"
      ]
     },
     "execution_count": 323,
     "metadata": {},
     "output_type": "execute_result"
    }
   ],
   "source": [
    "rf = RandomForestClassifier(bootstrap=True, class_weight=None, criterion='entropy',\n",
    "                            max_depth=10, max_features=20, max_leaf_nodes=None,\n",
    "                            min_impurity_decrease=0.0, min_impurity_split=None,\n",
    "                            min_samples_leaf=1, min_samples_split=2,\n",
    "                            min_weight_fraction_leaf=0.0, n_estimators=100, n_jobs=None,\n",
    "                            oob_score=False, random_state=None, verbose=0,\n",
    "                            warm_start=False)\n",
    "rf.fit(xtrain2, ytrain2)"
   ]
  },
  {
   "cell_type": "code",
   "execution_count": 324,
   "metadata": {},
   "outputs": [],
   "source": [
    "y_pred1 = rf.predict(xvalid)"
   ]
  },
  {
   "cell_type": "code",
   "execution_count": 327,
   "metadata": {},
   "outputs": [
    {
     "data": {
      "text/plain": [
       "95685"
      ]
     },
     "execution_count": 327,
     "metadata": {},
     "output_type": "execute_result"
    }
   ],
   "source": [
    "len(y_pred1)"
   ]
  },
  {
   "cell_type": "code",
   "execution_count": 342,
   "metadata": {},
   "outputs": [
    {
     "data": {
      "text/plain": [
       "1.0"
      ]
     },
     "execution_count": 342,
     "metadata": {},
     "output_type": "execute_result"
    }
   ],
   "source": [
    "from sklearn.metrics import roc_auc_score\n",
    "from sklearn.metrics import fbeta_score\n",
    "score = roc_auc_score(y_true=yvalid, y_score=y_pred1)\n",
    "score2 = fbeta_score(y_true=yvalid, y_pred=y_pred1,beta=1)\n",
    "score2\n",
    "'''All well, now to predict for the test data'''"
   ]
  },
  {
   "cell_type": "code",
   "execution_count": 349,
   "metadata": {
    "collapsed": true
   },
   "outputs": [
    {
     "data": {
      "text/plain": [
       "0    75108\n",
       "1    20577\n",
       "dtype: int64"
      ]
     },
     "execution_count": 349,
     "metadata": {},
     "output_type": "execute_result"
    }
   ],
   "source": [
    "pd.value_counts(y_pred1)"
   ]
  },
  {
   "cell_type": "code",
   "execution_count": 350,
   "metadata": {},
   "outputs": [],
   "source": [
    "training_target = xtrain['Consumer disputed?']\n",
    "del xtrain['Consumer disputed?']"
   ]
  },
  {
   "cell_type": "code",
   "execution_count": 355,
   "metadata": {
    "collapsed": true
   },
   "outputs": [
    {
     "data": {
      "text/plain": [
       "RandomForestClassifier(bootstrap=True, class_weight=None, criterion='entropy',\n",
       "                       max_depth=10, max_features=20, max_leaf_nodes=None,\n",
       "                       min_impurity_decrease=0.0, min_impurity_split=None,\n",
       "                       min_samples_leaf=1, min_samples_split=2,\n",
       "                       min_weight_fraction_leaf=0.0, n_estimators=100,\n",
       "                       n_jobs=None, oob_score=False, random_state=None,\n",
       "                       verbose=0, warm_start=False)"
      ]
     },
     "execution_count": 355,
     "metadata": {},
     "output_type": "execute_result"
    }
   ],
   "source": [
    "rf.fit(xtrain, training_target)"
   ]
  },
  {
   "cell_type": "code",
   "execution_count": 360,
   "metadata": {},
   "outputs": [],
   "source": [
    "del xtest['Consumer disputed?']"
   ]
  },
  {
   "cell_type": "code",
   "execution_count": 361,
   "metadata": {},
   "outputs": [
    {
     "data": {
      "text/plain": [
       "0    119605\n",
       "1         1\n",
       "dtype: int64"
      ]
     },
     "execution_count": 361,
     "metadata": {},
     "output_type": "execute_result"
    }
   ],
   "source": [
    "test_pred = rf.predict(xtest)\n",
    "pd.value_counts(test_pred)"
   ]
  },
  {
   "cell_type": "code",
   "execution_count": 362,
   "metadata": {},
   "outputs": [
    {
     "data": {
      "text/plain": [
       "0    376990\n",
       "1    101431\n",
       "Name: Consumer disputed?, dtype: int64"
      ]
     },
     "execution_count": 362,
     "metadata": {},
     "output_type": "execute_result"
    }
   ],
   "source": [
    "pd.value_counts(training_target)"
   ]
  },
  {
   "cell_type": "code",
   "execution_count": 364,
   "metadata": {},
   "outputs": [],
   "source": [
    "submission=pd.DataFrame(list(zip(testd['Complaint ID'],list(test_pred))),\n",
    "                       columns=['Complaint ID','Consumer disputed?'])"
   ]
  },
  {
   "cell_type": "code",
   "execution_count": 420,
   "metadata": {},
   "outputs": [],
   "source": [
    "submission['Consumer disputed?'] = np.where(submission['Consumer disputed?']==1,\"Yes\",\"No\")"
   ]
  },
  {
   "cell_type": "code",
   "execution_count": 367,
   "metadata": {},
   "outputs": [],
   "source": [
    "submission.to_csv(\"Submission1_11_feb.csv\", index=False)"
   ]
  },
  {
   "cell_type": "code",
   "execution_count": 375,
   "metadata": {
    "collapsed": true
   },
   "outputs": [
    {
     "name": "stdout",
     "output_type": "stream",
     "text": [
      "[08:56:39] WARNING: ../src/learner.cc:1061: Starting in XGBoost 1.3.0, the default evaluation metric used with the objective 'binary:logistic' was changed from 'error' to 'logloss'. Explicitly set eval_metric if you'd like to restore the old behavior.\n"
     ]
    },
    {
     "data": {
      "text/plain": [
       "XGBClassifier(base_score=0.5, booster='gbtree', colsample_bylevel=1,\n",
       "              colsample_bynode=1, colsample_bytree=1, gamma=0, gpu_id=-1,\n",
       "              importance_type='gain', interaction_constraints='',\n",
       "              learning_rate=0.300000012, max_delta_step=0, max_depth=6,\n",
       "              min_child_weight=1, missing=nan, monotone_constraints='()',\n",
       "              n_estimators=100, n_jobs=4, num_parallel_tree=1,\n",
       "              objective='binary:logistic', random_state=0, reg_alpha=0,\n",
       "              reg_lambda=1, scale_pos_weight=1, subsample=1,\n",
       "              tree_method='exact', use_label_encoder=True,\n",
       "              validate_parameters=1, verbosity=None)"
      ]
     },
     "execution_count": 375,
     "metadata": {},
     "output_type": "execute_result"
    }
   ],
   "source": [
    "'''Trying out XGBoost'''\n",
    "import xgboost as xgb\n",
    "xgbc_pav = xgb.XGBClassifier()\n",
    "xgbc_pav.fit(xtrain,training_target)"
   ]
  },
  {
   "cell_type": "code",
   "execution_count": 378,
   "metadata": {
    "scrolled": true
   },
   "outputs": [
    {
     "data": {
      "text/plain": [
       "0    119567\n",
       "1        39\n",
       "dtype: int64"
      ]
     },
     "execution_count": 378,
     "metadata": {},
     "output_type": "execute_result"
    }
   ],
   "source": [
    "xgb_pred = xgbc_pav.predict(xtest)\n",
    "pd.value_counts(xgb_pred)"
   ]
  },
  {
   "cell_type": "code",
   "execution_count": 379,
   "metadata": {},
   "outputs": [],
   "source": [
    "submission=pd.DataFrame(list(zip(testd['Complaint ID'],list(xgb_pred))),\n",
    "                       columns=['Complaint ID','Consumer disputed?'])"
   ]
  },
  {
   "cell_type": "code",
   "execution_count": 381,
   "metadata": {},
   "outputs": [],
   "source": [
    "submission.to_csv(\"submission2.csv\",index=False)"
   ]
  },
  {
   "cell_type": "code",
   "execution_count": 404,
   "metadata": {
    "scrolled": true
   },
   "outputs": [],
   "source": [
    "'''Now to use xgb with a balanced class data'''\n",
    "class0_data = xtrain.loc[xtrain['Consumer disputed?']==0]\n",
    "class1_data = xtrain.loc[xtrain['Consumer disputed?']==1]"
   ]
  },
  {
   "cell_type": "code",
   "execution_count": 406,
   "metadata": {
    "collapsed": true
   },
   "outputs": [
    {
     "name": "stdout",
     "output_type": "stream",
     "text": [
      "<class 'pandas.core.frame.DataFrame'>\n",
      "Int64Index: 101431 entries, 466047 to 200149\n",
      "Data columns (total 40 columns):\n",
      "Timely response?                                                101431 non-null int64\n",
      "delay                                                           101431 non-null int64\n",
      "Company_Bank of America                                         101431 non-null int64\n",
      "Company_Wells Fargo & Company                                   101431 non-null int64\n",
      "Company_JPMorgan Chase & Co.                                    101431 non-null int64\n",
      "Company_Equifax                                                 101431 non-null int64\n",
      "Company_Experian                                                101431 non-null int64\n",
      "Company_TransUnion Intermediate Holdings, Inc.                  101431 non-null int64\n",
      "Company_Citibank                                                101431 non-null int64\n",
      "Company response to consumer_Closed with explanation            101431 non-null int64\n",
      "Company response to consumer_Closed with non-monetary relief    101431 non-null int64\n",
      "Issue_Loan modification,collection,foreclosure                  101431 non-null int64\n",
      "Issue_Incorrect information on credit report                    101431 non-null int64\n",
      "Issue_Loan servicing, payments, escrow account                  101431 non-null int64\n",
      "Issue_Cont'd attempts collect debt not owed                     101431 non-null int64\n",
      "Issue_Account opening, closing, or management                   101431 non-null int64\n",
      "Product_Mortgage                                                101431 non-null int64\n",
      "Product_Debt collection                                         101431 non-null int64\n",
      "Product_Credit reporting                                        101431 non-null int64\n",
      "Product_Credit card                                             101431 non-null int64\n",
      "Product_Bank account or service                                 101431 non-null int64\n",
      "State_CA                                                        101431 non-null int64\n",
      "State_FL                                                        101431 non-null int64\n",
      "State_TX                                                        101431 non-null int64\n",
      "State_NY                                                        101431 non-null int64\n",
      "State_GA                                                        101431 non-null int64\n",
      "State_NJ                                                        101431 non-null int64\n",
      "State_PA                                                        101431 non-null int64\n",
      "Sub-product_missing                                             101431 non-null int64\n",
      "Sub-product_Other mortgage                                      101431 non-null int64\n",
      "Sub-product_Conventional fixed mortgage                         101431 non-null int64\n",
      "Sub-product_Checking account                                    101431 non-null int64\n",
      "Sub-product_Other (i.e. phone, health club, etc.)               101431 non-null int64\n",
      "Sub-product_I do not know                                       101431 non-null int64\n",
      "Sub-product_Credit card                                         101431 non-null int64\n",
      "Sub-product_Conventional adjustable mortgage (ARM)              101431 non-null int64\n",
      "Submitted via_Web                                               101431 non-null int64\n",
      "Submitted via_Referral                                          101431 non-null int64\n",
      "Submitted via_Phone                                             101431 non-null int64\n",
      "Consumer disputed?                                              101431 non-null int64\n",
      "dtypes: int64(40)\n",
      "memory usage: 31.7 MB\n"
     ]
    }
   ],
   "source": [
    "class0_data = class0_data.sample(101431)\n",
    "class0_data.info()"
   ]
  },
  {
   "cell_type": "code",
   "execution_count": 410,
   "metadata": {
    "scrolled": true
   },
   "outputs": [],
   "source": [
    "xtrain_balanced = pd.concat([class0_data,class1_data],axis=0)"
   ]
  },
  {
   "cell_type": "code",
   "execution_count": 413,
   "metadata": {},
   "outputs": [],
   "source": [
    "pd.value_counts(xtrain_balanced['Consumer disputed?'])\n",
    "training_target_balanced = xtrain_balanced['Consumer disputed?']\n",
    "del xtrain_balanced['Consumer disputed?']"
   ]
  },
  {
   "cell_type": "code",
   "execution_count": 414,
   "metadata": {},
   "outputs": [
    {
     "name": "stderr",
     "output_type": "stream",
     "text": [
      "/home/pavan117/anaconda3/lib/python3.7/site-packages/xgboost/sklearn.py:888: UserWarning: The use of label encoder in XGBClassifier is deprecated and will be removed in a future release. To remove this warning, do the following: 1) Pass option use_label_encoder=False when constructing XGBClassifier object; and 2) Encode your labels (y) as integers starting with 0, i.e. 0, 1, 2, ..., [num_class - 1].\n",
      "  warnings.warn(label_encoder_deprecation_msg, UserWarning)\n"
     ]
    },
    {
     "name": "stdout",
     "output_type": "stream",
     "text": [
      "[09:19:34] WARNING: ../src/learner.cc:1061: Starting in XGBoost 1.3.0, the default evaluation metric used with the objective 'binary:logistic' was changed from 'error' to 'logloss'. Explicitly set eval_metric if you'd like to restore the old behavior.\n"
     ]
    },
    {
     "data": {
      "text/plain": [
       "XGBClassifier(base_score=0.5, booster='gbtree', colsample_bylevel=1,\n",
       "              colsample_bynode=1, colsample_bytree=1, gamma=0, gpu_id=-1,\n",
       "              importance_type='gain', interaction_constraints='',\n",
       "              learning_rate=0.300000012, max_delta_step=0, max_depth=6,\n",
       "              min_child_weight=1, missing=nan, monotone_constraints='()',\n",
       "              n_estimators=100, n_jobs=4, num_parallel_tree=1,\n",
       "              objective='binary:logistic', random_state=0, reg_alpha=0,\n",
       "              reg_lambda=1, scale_pos_weight=1, subsample=1,\n",
       "              tree_method='exact', use_label_encoder=True,\n",
       "              validate_parameters=1, verbosity=None)"
      ]
     },
     "execution_count": 414,
     "metadata": {},
     "output_type": "execute_result"
    }
   ],
   "source": [
    "classifier = xgb.XGBClassifier()\n",
    "classifier.fit(xtrain_balanced, training_target_balanced)"
   ]
  },
  {
   "cell_type": "code",
   "execution_count": 416,
   "metadata": {},
   "outputs": [
    {
     "data": {
      "text/plain": [
       "(119606, 39)"
      ]
     },
     "execution_count": 416,
     "metadata": {},
     "output_type": "execute_result"
    }
   ],
   "source": [
    "xtest.shape"
   ]
  },
  {
   "cell_type": "code",
   "execution_count": 417,
   "metadata": {},
   "outputs": [
    {
     "data": {
      "text/plain": [
       "1    63680\n",
       "0    55926\n",
       "dtype: int64"
      ]
     },
     "execution_count": 417,
     "metadata": {},
     "output_type": "execute_result"
    }
   ],
   "source": [
    "test_pred_balanced = classifier.predict(xtest)\n",
    "pd.value_counts(test_pred_balanced)"
   ]
  },
  {
   "cell_type": "code",
   "execution_count": 418,
   "metadata": {},
   "outputs": [],
   "source": [
    "submission=pd.DataFrame(list(zip(testd['Complaint ID'],list(test_pred_balanced))),\n",
    "                       columns=['Complaint ID','Consumer disputed?'])\n",
    "submission.to_csv(\"Balanced_Pred.csv\",index=False)"
   ]
  },
  {
   "cell_type": "code",
   "execution_count": 422,
   "metadata": {},
   "outputs": [
    {
     "data": {
      "text/plain": [
       "Yes    63680\n",
       "No     55926\n",
       "Name: Consumer disputed?, dtype: int64"
      ]
     },
     "execution_count": 422,
     "metadata": {},
     "output_type": "execute_result"
    }
   ],
   "source": [
    "pd.value_counts(submission['Consumer disputed?'])"
   ]
  }
 ],
 "metadata": {
  "kernelspec": {
   "display_name": "Python 3",
   "language": "python",
   "name": "python3"
  },
  "language_info": {
   "codemirror_mode": {
    "name": "ipython",
    "version": 3
   },
   "file_extension": ".py",
   "mimetype": "text/x-python",
   "name": "python",
   "nbconvert_exporter": "python",
   "pygments_lexer": "ipython3",
   "version": "3.7.3"
  }
 },
 "nbformat": 4,
 "nbformat_minor": 2
}
